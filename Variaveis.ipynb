{
  "nbformat": 4,
  "nbformat_minor": 0,
  "metadata": {
    "colab": {
      "provenance": [],
      "authorship_tag": "ABX9TyOYMHc2ht6ZXQI/+2MIwko3",
      "include_colab_link": true
    },
    "kernelspec": {
      "name": "python3",
      "display_name": "Python 3"
    },
    "language_info": {
      "name": "python"
    }
  },
  "cells": [
    {
      "cell_type": "markdown",
      "metadata": {
        "id": "view-in-github",
        "colab_type": "text"
      },
      "source": [
        "<a href=\"https://colab.research.google.com/github/alexandrecysne/python-declaracoes-variaveis/blob/main/Variaveis.ipynb\" target=\"_parent\"><img src=\"https://colab.research.google.com/assets/colab-badge.svg\" alt=\"Open In Colab\"/></a>"
      ]
    },
    {
      "cell_type": "code",
      "execution_count": 18,
      "metadata": {
        "colab": {
          "base_uri": "https://localhost:8080/"
        },
        "id": "k_1Zoe1bR3sb",
        "outputId": "a562e22a-ead0-4d63-c5ea-4337c71f970f"
      },
      "outputs": [
        {
          "output_type": "stream",
          "name": "stdout",
          "text": [
            "1 2 3 4\n",
            "4 3 2 1\n",
            "Olá mundo!\n",
            "Olá mundo!\n",
            "None\n",
            "10\n",
            "1.53\n",
            "olá isto é um texto\n",
            "True\n",
            "False\n",
            "10\n",
            "None\n",
            "1\n",
            "Texto\n",
            "99\n"
          ]
        }
      ],
      "source": [
        "# exemplos de variáveis em python\n",
        "\n",
        "# Os tipos de variáveis em Python são inferidos automaticamente pelo interpretador, sem que haja a necessidade de se especificar o tipo da variável no momento de sua declaração\n",
        "_numero = 1\n",
        "_Numero = 2\n",
        "numero = 3\n",
        "Numero = 4\n",
        "print(_numero, _Numero, numero, Numero)\n",
        "\n",
        "_numero = 4\n",
        "_Numero = 3\n",
        "numero = 2\n",
        "Numero = 1\n",
        "print(_numero, _Numero, numero, Numero)\n",
        "\n",
        "# outro exemplo aspas dupla\n",
        "texto = \"Olá mundo!\"\n",
        "print(texto)\n",
        "\n",
        "# outro exemplo aspas simples\n",
        "texto = 'Olá mundo!'\n",
        "print(texto)\n",
        "\n",
        "# tipos primitivos\n",
        "\n",
        "# exemplo\n",
        "variavel = None # None palavra reservada\n",
        "print(variavel)\n",
        "\n",
        "# outro exemplo\n",
        "inteiro = 10\n",
        "print(inteiro)\n",
        "\n",
        "# outro exemplo\n",
        "decimal = 1.53\n",
        "print(decimal)\n",
        "\n",
        "# outro exemplo\n",
        "texto = \"olá isto é um texto\"\n",
        "print(texto)\n",
        "\n",
        "# outro exemplo\n",
        "var = True # True palavra reservada\n",
        "print(var)\n",
        "var = False # False palavra reservada\n",
        "print(var)\n",
        "\n",
        "# outro exemplo\n",
        "var1 = 10\n",
        "var2 = var1\n",
        "print(var2)\n",
        "\n",
        "# outro exemplo\n",
        "var = None\n",
        "print(var)\n",
        "var = 1\n",
        "print(var)\n",
        "var = \"Texto\"\n",
        "print(var)\n",
        "\n",
        "# outro exemplo\n",
        "code: int\n",
        "code = 99\n",
        "print(code)\n",
        "\n",
        "\n",
        "# PEP8 estilo para código Python\n",
        "\n",
        "# CamelCase\n",
        "# Com a primeira letra de cada palavra em caixa alta\n",
        "SaldoBancario = 10000000000\n",
        "NomeCompleto = \"Alexandre Cysne Esteves\"\n",
        "\n",
        "# Pascal Case\n",
        "# Com a primeira letra de cada palavra em caixa alta com exceção da primeira\n",
        "saldoBancario = 10000000000\n",
        "nomeCompleto = \"Alexandre Cysne Esteves\"\n",
        "\n",
        "# Snake_Case\n",
        "# Em que todas as palavras são escritas em letras minúsculas e separadas por um underscore (“_”).\n",
        "saldo_bancario = 10000000000\n",
        "nome_completo = \"Alexandre Cysne Esteves\"\n",
        "\n",
        "\n",
        "\n",
        "\n",
        "\n",
        "\n"
      ]
    }
  ]
}